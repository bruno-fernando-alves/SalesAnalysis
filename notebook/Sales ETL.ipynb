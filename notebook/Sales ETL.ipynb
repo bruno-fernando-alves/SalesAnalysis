{
 "cells": [
  {
   "cell_type": "markdown",
   "metadata": {
    "application/vnd.databricks.v1+cell": {
     "cellMetadata": {
      "byteLimit": 2048000,
      "rowLimit": 10000
     },
     "inputWidgets": {},
     "nuid": "8ae2f84c-0741-4886-b0d5-5957190b103d",
     "showTitle": false,
     "title": ""
    }
   },
   "source": [
    "Start Session inicio de leitura raw"
   ]
  },
  {
   "cell_type": "code",
   "execution_count": 0,
   "metadata": {
    "application/vnd.databricks.v1+cell": {
     "cellMetadata": {
      "byteLimit": 2048000,
      "rowLimit": 10000
     },
     "inputWidgets": {},
     "nuid": "d8534f50-b471-4bd0-9df6-4a216f9ce360",
     "showTitle": false,
     "title": ""
    }
   },
   "outputs": [],
   "source": [
    "from pyspark.sql import SparkSession\n",
    "from pyspark.ml.feature import VectorAssembler\n",
    "from pyspark.ml.regression import LinearRegression\n",
    "from pyspark.ml.evaluation import RegressionEvaluator\n",
    "import matplotlib.pyplot as plt\n",
    "import pandas as pd\n",
    "from pyspark.sql.functions import col, to_timestamp,split,count, year, month\n"
   ]
  },
  {
   "cell_type": "code",
   "execution_count": 0,
   "metadata": {
    "application/vnd.databricks.v1+cell": {
     "cellMetadata": {
      "byteLimit": 2048000,
      "rowLimit": 10000
     },
     "inputWidgets": {},
     "nuid": "ff8ae89e-1a96-4ca0-828b-d5aadcab3af8",
     "showTitle": false,
     "title": ""
    }
   },
   "outputs": [],
   "source": [
    "spark = SparkSession.builder \\\n",
    "    .master('local[*]') \\\n",
    "    .appName(\"Bronze - Sales\") \\\n",
    "    .getOrCreate()"
   ]
  },
  {
   "cell_type": "markdown",
   "metadata": {
    "application/vnd.databricks.v1+cell": {
     "cellMetadata": {},
     "inputWidgets": {},
     "nuid": "4a36c034-8d67-44a3-8e12-c84e83b93377",
     "showTitle": false,
     "title": ""
    }
   },
   "source": [
    "Leitura do Arquivo de Vendas"
   ]
  },
  {
   "cell_type": "code",
   "execution_count": 0,
   "metadata": {
    "application/vnd.databricks.v1+cell": {
     "cellMetadata": {
      "byteLimit": 2048000,
      "rowLimit": 10000
     },
     "inputWidgets": {},
     "nuid": "d564316e-501d-46d8-8e75-79aa5057de2d",
     "showTitle": false,
     "title": ""
    }
   },
   "outputs": [
    {
     "output_type": "execute_result",
     "data": {
      "text/plain": [
       "44500"
      ]
     },
     "execution_count": 3,
     "metadata": {},
     "output_type": "execute_result"
    }
   ],
   "source": [
    "df = spark.read\\\n",
    "      .option(\"header\",\"true\")\\\n",
    "      .option(\"delimiter\",\",\")\\\n",
    "      .option(\"inferSchema\", False) \\\n",
    "      .csv('dbfs:/FileStore/')\n",
    "df.count()"
   ]
  },
  {
   "cell_type": "markdown",
   "metadata": {
    "application/vnd.databricks.v1+cell": {
     "cellMetadata": {},
     "inputWidgets": {},
     "nuid": "77b310c7-78e2-4448-858d-d03ffc6a5696",
     "showTitle": false,
     "title": ""
    }
   },
   "source": [
    "Salvar o arquivo em formato otimizado"
   ]
  },
  {
   "cell_type": "code",
   "execution_count": 0,
   "metadata": {
    "application/vnd.databricks.v1+cell": {
     "cellMetadata": {
      "byteLimit": 2048000,
      "rowLimit": 10000
     },
     "inputWidgets": {},
     "nuid": "f8c35987-be40-4b91-8d7d-dc888ac08d1c",
     "showTitle": false,
     "title": ""
    }
   },
   "outputs": [],
   "source": [
    "_dirBronze = 'dbfs:/bronze'\n",
    "df.write.parquet(_dirBronze,mode='overwrite')\n",
    "#Criação do Parquet com os dados que foram lidos da base raw"
   ]
  },
  {
   "cell_type": "markdown",
   "metadata": {
    "application/vnd.databricks.v1+cell": {
     "cellMetadata": {},
     "inputWidgets": {},
     "nuid": "327f1f20-bf7a-4016-a442-475da21b1357",
     "showTitle": false,
     "title": ""
    }
   },
   "source": [
    "fazer a leitura para iniciar tratamentos "
   ]
  },
  {
   "cell_type": "code",
   "execution_count": 0,
   "metadata": {
    "application/vnd.databricks.v1+cell": {
     "cellMetadata": {
      "byteLimit": 2048000,
      "rowLimit": 10000
     },
     "inputWidgets": {},
     "nuid": "30e6832a-716f-4542-a8d8-a60e5a719782",
     "showTitle": false,
     "title": ""
    }
   },
   "outputs": [
    {
     "output_type": "stream",
     "name": "stdout",
     "output_type": "stream",
     "text": [
      "+--------------------+--------------------+----------+---------+-------+---------+-------+--------------------+--------------------+--------------------+\n|                name|             sale_id|product_id|  product|price_y| quantity|price_x|          created_at|          updated_at|               email|\n+--------------------+--------------------+----------+---------+-------+---------+-------+--------------------+--------------------+--------------------+\n|        Mason Howell|442bc2f0-22d3-3c8...|       296|Lang Club|866.694|   3.8999| 2433.8|1997-09-17 21:50:...|2007-02-15 19:34:...|jessica.cole@exam...|\n|        Mason Howell|442bc2f0-22d3-3c8...|       296|Lang Club|866.694|      4.0|1196.58|1997-09-17 21:50:...|2007-02-15 19:34:...|jessica.cole@exam...|\n|        Mason Howell|442bc2f0-22d3-3c8...|       296|Lang Club|866.694|  1.38452| 1975.0|1997-09-17 21:50:...|2007-02-15 19:34:...|jessica.cole@exam...|\n|        Mason Howell|442bc2f0-22d3-3c8...|       296|Lang Club|866.694|    2.225|119.526|1997-09-17 21:50:...|2007-02-15 19:34:...|jessica.cole@exam...|\n|        Mason Howell|442bc2f0-22d3-3c8...|       296|Lang Club|866.694|     2.89|2386.94|1997-09-17 21:50:...|2007-02-15 19:34:...|jessica.cole@exam...|\n|Miss Sheila Lehne...|77aa9946-a96d-373...|       296|Lang Club|866.694|0.0451353| 172.68|1999-08-19 03:22:...|2017-07-30 09:27:...|becker.beatrice@e...|\n|Miss Sheila Lehne...|77aa9946-a96d-373...|       296|Lang Club|866.694|      3.0| 959.38|1999-08-19 03:22:...|2017-07-30 09:27:...|becker.beatrice@e...|\n|Miss Sheila Lehne...|77aa9946-a96d-373...|       296|Lang Club|866.694|      1.2|984.838|1999-08-19 03:22:...|2017-07-30 09:27:...|becker.beatrice@e...|\n|Miss Sheila Lehne...|77aa9946-a96d-373...|       296|Lang Club|866.694|     1.71|1956.87|1999-08-19 03:22:...|2017-07-30 09:27:...|becker.beatrice@e...|\n|    Melyna Beahan II|4ef6db5d-574a-351...|       296|Lang Club|866.694|     4.81| 2284.0|1985-03-23 00:59:...|2001-01-11 10:04:...| plittle@example.org|\n|    Melyna Beahan II|4ef6db5d-574a-351...|       296|Lang Club|866.694|    4.241|2484.49|1985-03-23 00:59:...|2001-01-11 10:04:...| plittle@example.org|\n|    Melyna Beahan II|4ef6db5d-574a-351...|       296|Lang Club|866.694|   4.6201|3073.94|1985-03-23 00:59:...|2001-01-11 10:04:...| plittle@example.org|\n|    Melyna Beahan II|4ef6db5d-574a-351...|       296|Lang Club|866.694|      4.3|842.161|1985-03-23 00:59:...|2001-01-11 10:04:...| plittle@example.org|\n|    Lolita Reilly II|7c9d5179-1896-38a...|       296|Lang Club|866.694|  3.56993| 3802.1|2005-07-25 20:57:...|1993-01-18 19:55:...|christop.gleichne...|\n|    Lolita Reilly II|7c9d5179-1896-38a...|       296|Lang Club|866.694| 0.428959| 2332.9|2005-07-25 20:57:...|1993-01-18 19:55:...|christop.gleichne...|\n|    Lolita Reilly II|7c9d5179-1896-38a...|       296|Lang Club|866.694|   1.6079|3040.18|2005-07-25 20:57:...|1993-01-18 19:55:...|christop.gleichne...|\n|    Lolita Reilly II|7c9d5179-1896-38a...|       296|Lang Club|866.694|   2.0772|1544.61|2005-07-25 20:57:...|1993-01-18 19:55:...|christop.gleichne...|\n|Dr. Kurt Pfanners...|54536752-2eb2-3dc...|       296|Lang Club|866.694|  2.07744| 3244.0|1996-08-11 08:55:...|2012-05-05 14:03:...|ruecker.abbie@exa...|\n|Dr. Kurt Pfanners...|54536752-2eb2-3dc...|       296|Lang Club|866.694|  3.52554|  693.5|1996-08-11 08:55:...|2012-05-05 14:03:...|ruecker.abbie@exa...|\n|Dr. Kurt Pfanners...|54536752-2eb2-3dc...|       296|Lang Club|866.694|   4.0883|3314.49|1996-08-11 08:55:...|2012-05-05 14:03:...|ruecker.abbie@exa...|\n+--------------------+--------------------+----------+---------+-------+---------+-------+--------------------+--------------------+--------------------+\nonly showing top 20 rows\n\n"
     ]
    }
   ],
   "source": [
    "# prompt: ler dados pasta bronze\n",
    "df_Sil = spark.read.parquet(_dirBronze)\n",
    "df_Sil.show()"
   ]
  },
  {
   "cell_type": "markdown",
   "metadata": {
    "application/vnd.databricks.v1+cell": {
     "cellMetadata": {},
     "inputWidgets": {},
     "nuid": "8acb54cb-ea42-4ae9-b102-0756b35c3f35",
     "showTitle": false,
     "title": ""
    }
   },
   "source": [
    "Separação de Ano e Mês da criação do registro de venda e user "
   ]
  },
  {
   "cell_type": "code",
   "execution_count": 0,
   "metadata": {
    "application/vnd.databricks.v1+cell": {
     "cellMetadata": {
      "byteLimit": 2048000,
      "rowLimit": 10000
     },
     "inputWidgets": {},
     "nuid": "812d2487-af11-4542-84ef-de7588cce932",
     "showTitle": false,
     "title": ""
    }
   },
   "outputs": [
    {
     "output_type": "stream",
     "name": "stdout",
     "output_type": "stream",
     "text": [
      "+--------------------+--------------------+----------+---------+-------+---------+-------+--------------------+--------------------+--------------------+------------------+------------+-------------+------------------+\n|                name|             sale_id|product_id|  product|price_y| quantity|price_x|          created_at|          updated_at|               email|        total_sale|year_created|month_created|              user|\n+--------------------+--------------------+----------+---------+-------+---------+-------+--------------------+--------------------+--------------------+------------------+------------+-------------+------------------+\n|        Mason Howell|442bc2f0-22d3-3c8...|       296|Lang Club|866.694|   3.8999| 2433.8|1997-09-17 21:50:...|2007-02-15 19:34:...|jessica.cole@exam...| 9491.576620000002|        1997|            9|      jessica.cole|\n|        Mason Howell|442bc2f0-22d3-3c8...|       296|Lang Club|866.694|      4.0|1196.58|1997-09-17 21:50:...|2007-02-15 19:34:...|jessica.cole@exam...|           4786.32|        1997|            9|      jessica.cole|\n|        Mason Howell|442bc2f0-22d3-3c8...|       296|Lang Club|866.694|  1.38452| 1975.0|1997-09-17 21:50:...|2007-02-15 19:34:...|jessica.cole@exam...|          2734.427|        1997|            9|      jessica.cole|\n|        Mason Howell|442bc2f0-22d3-3c8...|       296|Lang Club|866.694|    2.225|119.526|1997-09-17 21:50:...|2007-02-15 19:34:...|jessica.cole@exam...|         265.94535|        1997|            9|      jessica.cole|\n|        Mason Howell|442bc2f0-22d3-3c8...|       296|Lang Club|866.694|     2.89|2386.94|1997-09-17 21:50:...|2007-02-15 19:34:...|jessica.cole@exam...| 6898.256600000001|        1997|            9|      jessica.cole|\n|Miss Sheila Lehne...|77aa9946-a96d-373...|       296|Lang Club|866.694|0.0451353| 172.68|1999-08-19 03:22:...|2017-07-30 09:27:...|becker.beatrice@e...| 7.793963604000001|        1999|            8|   becker.beatrice|\n|Miss Sheila Lehne...|77aa9946-a96d-373...|       296|Lang Club|866.694|      3.0| 959.38|1999-08-19 03:22:...|2017-07-30 09:27:...|becker.beatrice@e...|           2878.14|        1999|            8|   becker.beatrice|\n|Miss Sheila Lehne...|77aa9946-a96d-373...|       296|Lang Club|866.694|      1.2|984.838|1999-08-19 03:22:...|2017-07-30 09:27:...|becker.beatrice@e...|         1181.8056|        1999|            8|   becker.beatrice|\n|Miss Sheila Lehne...|77aa9946-a96d-373...|       296|Lang Club|866.694|     1.71|1956.87|1999-08-19 03:22:...|2017-07-30 09:27:...|becker.beatrice@e...|         3346.2477|        1999|            8|   becker.beatrice|\n|    Melyna Beahan II|4ef6db5d-574a-351...|       296|Lang Club|866.694|     4.81| 2284.0|1985-03-23 00:59:...|2001-01-11 10:04:...| plittle@example.org|10986.039999999999|        1985|            3|           plittle|\n|    Melyna Beahan II|4ef6db5d-574a-351...|       296|Lang Club|866.694|    4.241|2484.49|1985-03-23 00:59:...|2001-01-11 10:04:...| plittle@example.org|10536.722089999997|        1985|            3|           plittle|\n|    Melyna Beahan II|4ef6db5d-574a-351...|       296|Lang Club|866.694|   4.6201|3073.94|1985-03-23 00:59:...|2001-01-11 10:04:...| plittle@example.org|      14201.910194|        1985|            3|           plittle|\n|    Melyna Beahan II|4ef6db5d-574a-351...|       296|Lang Club|866.694|      4.3|842.161|1985-03-23 00:59:...|2001-01-11 10:04:...| plittle@example.org|3621.2922999999996|        1985|            3|           plittle|\n|    Lolita Reilly II|7c9d5179-1896-38a...|       296|Lang Club|866.694|  3.56993| 3802.1|2005-07-25 20:57:...|1993-01-18 19:55:...|christop.gleichne...|      13573.230853|        2005|            7|christop.gleichner|\n|    Lolita Reilly II|7c9d5179-1896-38a...|       296|Lang Club|866.694| 0.428959| 2332.9|2005-07-25 20:57:...|1993-01-18 19:55:...|christop.gleichne...|      1000.7184511|        2005|            7|christop.gleichner|\n|    Lolita Reilly II|7c9d5179-1896-38a...|       296|Lang Club|866.694|   1.6079|3040.18|2005-07-25 20:57:...|1993-01-18 19:55:...|christop.gleichne...|       4888.305422|        2005|            7|christop.gleichner|\n|    Lolita Reilly II|7c9d5179-1896-38a...|       296|Lang Club|866.694|   2.0772|1544.61|2005-07-25 20:57:...|1993-01-18 19:55:...|christop.gleichne...|3208.4638919999998|        2005|            7|christop.gleichner|\n|Dr. Kurt Pfanners...|54536752-2eb2-3dc...|       296|Lang Club|866.694|  2.07744| 3244.0|1996-08-11 08:55:...|2012-05-05 14:03:...|ruecker.abbie@exa...|        6739.21536|        1996|            8|     ruecker.abbie|\n|Dr. Kurt Pfanners...|54536752-2eb2-3dc...|       296|Lang Club|866.694|  3.52554|  693.5|1996-08-11 08:55:...|2012-05-05 14:03:...|ruecker.abbie@exa...|        2444.96199|        1996|            8|     ruecker.abbie|\n|Dr. Kurt Pfanners...|54536752-2eb2-3dc...|       296|Lang Club|866.694|   4.0883|3314.49|1996-08-11 08:55:...|2012-05-05 14:03:...|ruecker.abbie@exa...|      13550.629467|        1996|            8|     ruecker.abbie|\n+--------------------+--------------------+----------+---------+-------+---------+-------+--------------------+--------------------+--------------------+------------------+------------+-------------+------------------+\nonly showing top 20 rows\n\n"
     ]
    }
   ],
   "source": [
    "\n",
    "# Calcular o total de cada venda\n",
    "df_Sil = df_Sil.withColumn(\"total_sale\", col(\"price_x\") * col(\"quantity\"))\n",
    "\n",
    "# Extrair ano e mês da coluna \"created_at\"\n",
    "df_Sil = df_Sil.withColumn(\"year_created\", col(\"created_at\").substr(1, 4).cast(\"int\"))\n",
    "df_Sil = df_Sil.withColumn(\"month_created\", col(\"created_at\").substr(6, 2).cast(\"int\"))\n",
    "\n",
    "# trair usuario que realizou a operação\n",
    "df_Sil = df_Sil.withColumn('user',split(col(\"email\"), \"@\")[0] )\n",
    "# Exibir DataFrame após transformações\n",
    "df_Sil.show()"
   ]
  },
  {
   "cell_type": "markdown",
   "metadata": {
    "application/vnd.databricks.v1+cell": {
     "cellMetadata": {},
     "inputWidgets": {},
     "nuid": "5e9439d2-a97d-4e53-9cee-e2d03f85b907",
     "showTitle": false,
     "title": ""
    }
   },
   "source": [
    "realizando analises de alguns indicadores do df"
   ]
  },
  {
   "cell_type": "code",
   "execution_count": 0,
   "metadata": {
    "application/vnd.databricks.v1+cell": {
     "cellMetadata": {
      "byteLimit": 2048000,
      "rowLimit": 10000
     },
     "inputWidgets": {},
     "nuid": "940c26e4-6dcb-4569-8077-14d3a6d29b79",
     "showTitle": false,
     "title": ""
    }
   },
   "outputs": [
    {
     "output_type": "stream",
     "name": "stdout",
     "output_type": "stream",
     "text": [
      "+-------+--------------+--------------------+-----------------+------------------+------------------+------------------+------------------+--------------------+--------------------+------------------+-----------------+------------------+------------------+------+\n|summary|          name|             sale_id|       product_id|           product|           price_y|          quantity|           price_x|          created_at|          updated_at|             email|       total_sale|      year_created|     month_created|  user|\n+-------+--------------+--------------------+-----------------+------------------+------------------+------------------+------------------+--------------------+--------------------+------------------+-----------------+------------------+------------------+------+\n|  count|         44500|               44500|            44500|             44500|             44500|             44500|             44500|               44500|               44500|             44500|            44500|             44500|             44500| 44500|\n|   mean|          NULL|                NULL|300.3876404494382|              NULL| 1897.930295056179|2.5053594568306328|1999.1615191587414|                NULL|                NULL|              NULL|5013.115018335233| 1994.712584269663| 6.536426966292135|  NULL|\n| stddev|          NULL|                NULL|57.73484460207168|              NULL|1144.8337460626424|1.4466760637131097|1155.4517435313164|                NULL|                NULL|              NULL|4419.883923403623|14.506820093591331|3.4597457909102007|  NULL|\n|    min|Aaliyah Walker|00083ece-6b61-390...|              201|Abshire Expressway|            1012.0|               0.0|         0.0558179|1970-01-02 11:19:...|1970-01-01 08:38:...|aadams@example.org|              0.0|              1970|                 1|aadams|\n|    max|   Zoila Lesch|fffb357c-d696-382...|              400|       Zieme Lodge|           944.035|               5.0|           999.722|2020-02-04 10:46:...|2020-02-05 07:37:...|zwyman@example.org|       19892.1859|              2020|                12|zwyman|\n+-------+--------------+--------------------+-----------------+------------------+------------------+------------------+------------------+--------------------+--------------------+------------------+-----------------+------------------+------------------+------+\n\n+------------------+-----+\n|           product|count|\n+------------------+-----+\n|  Hipolito Passage|  223|\n|      Rath Mission|  223|\n|      Brent Square|  223|\n|      Sipes Summit|  223|\n|    Edwardo Harbor|  223|\n|      Trycia Shoal|  223|\n|       Skiles Loaf|  223|\n|    Dedrick Courts|  223|\n|        Jada Lakes|  223|\n|Lubowitz Crossroad|  223|\n|    Predovic Wells|  223|\n|    Gretchen Forks|  223|\n|        Kihn Grove|  223|\n|         Grady Dam|  223|\n|         Lang Club|  223|\n|    Kathryne Union|  223|\n|   Jakayla Viaduct|  223|\n|       Berta Place|  223|\n|   Georgette Drive|  223|\n|        Will Creek|  223|\n+------------------+-----+\nonly showing top 20 rows\n\n+------------+------------------+\n|        user|       TotalVendas|\n+------------+------------------+\n|rcruickshank|150554.47237315698|\n|     kcremin|148846.99126498203|\n|    tcollins|147004.63806231998|\n|      tkoepp|   143316.54779061|\n|       ghand|   136317.32613253|\n+------------+------------------+\n\n+------------+------------------+\n|year_created|       TotalVendas|\n+------------+------------------+\n|        1970| 4759493.364726932|\n|        1971| 4482516.784260312|\n|        1972| 4347311.018516167|\n|        1973| 4387956.935381481|\n|        1974| 4742660.132488502|\n|        1975| 4567861.128629704|\n|        1976| 4065917.400288377|\n|        1977| 4247714.492141092|\n|        1978| 4166229.074650845|\n|        1979| 4641636.372795433|\n|        1980| 4094716.178056564|\n|        1981| 4255746.885386812|\n|        1982|4076998.4291601637|\n|        1983| 4314834.275842268|\n|        1984| 4366509.224116594|\n|        1985|4014787.2529136594|\n|        1986| 4775029.644228738|\n|        1987| 4199156.458544086|\n|        1988|4051798.4939643815|\n|        1989| 4279564.248799737|\n+------------+------------------+\nonly showing top 20 rows\n\n"
     ]
    }
   ],
   "source": [
    "df_Sil.describe().show()\n",
    "\n",
    "product_counts = df_Sil.groupBy(\"product\") \\\n",
    "                   .agg(count(\"*\").alias(\"count\")) \\\n",
    "                   .orderBy(\"count\", ascending=False)\n",
    "\n",
    "product_counts.show()\n",
    "\n",
    "total_sales_by_year = df_Sil.groupBy(\"year_created\")\\\n",
    "                        .sum(\"total_sale\") \\\n",
    "                        .orderBy(\"year_created\")\\\n",
    "\n",
    "\n",
    "total_sales_by_year = total_sales_by_year.withColumnRenamed('sum(total_sale)', \"TotalVendas\")\n",
    "\n",
    "T5_per_user = df_Sil.groupBy(\"user\")\\\n",
    "                        .sum(\"total_sale\")\\\n",
    "                        .orderBy(col('sum(total_sale)'), ascending=False) \\\n",
    "                        .limit(5)\n",
    "T5_per_user = T5_per_user.withColumnRenamed('sum(total_sale)', \"TotalVendas\")\n",
    "\n",
    "T5_per_user.show()\n",
    "total_sales_by_year.show()\n"
   ]
  },
  {
   "cell_type": "markdown",
   "metadata": {
    "application/vnd.databricks.v1+cell": {
     "cellMetadata": {},
     "inputWidgets": {},
     "nuid": "1ff81e26-cee3-4b98-9b39-55a7a7dba8fe",
     "showTitle": false,
     "title": ""
    }
   },
   "source": [
    "Armazenando df agregados e df main "
   ]
  },
  {
   "cell_type": "code",
   "execution_count": 0,
   "metadata": {
    "application/vnd.databricks.v1+cell": {
     "cellMetadata": {
      "byteLimit": 2048000,
      "rowLimit": 10000
     },
     "inputWidgets": {},
     "nuid": "5f399558-7200-4f9a-b6fd-3c4fa4886f9c",
     "showTitle": false,
     "title": ""
    }
   },
   "outputs": [],
   "source": [
    "_dirSilver = 'dbfs:/Silver'\n",
    "\n",
    "# salvar em parquet os df agregados \n",
    "\n",
    "df_Sil.write.parquet(_dirSilver+'/parquet/sales',mode='overwrite')\n",
    "product_counts.write.parquet(_dirSilver+'/parquet/product_counts',mode='overwrite')\n",
    "total_sales_by_year.write.parquet(_dirSilver+'/parquet/total_sales',mode='overwrite')\n",
    "T5_per_user.write.parquet(_dirSilver+'/parquet/T5_per_user',mode='overwrite')\n",
    "# salvar em Delta o df main\n",
    "df_Sil.write.format(\"delta\").mode(\"overwrite\").save(_dirSilver+'/delta/sales') "
   ]
  },
  {
   "cell_type": "markdown",
   "metadata": {
    "application/vnd.databricks.v1+cell": {
     "cellMetadata": {},
     "inputWidgets": {},
     "nuid": "189a70f5-1d3c-4f46-8401-2b5d2d2c29a3",
     "showTitle": false,
     "title": ""
    }
   },
   "source": [
    "Mostrando resultado de vendas por anos"
   ]
  },
  {
   "cell_type": "code",
   "execution_count": 0,
   "metadata": {
    "application/vnd.databricks.v1+cell": {
     "cellMetadata": {
      "byteLimit": 2048000,
      "rowLimit": 10000
     },
     "inputWidgets": {},
     "nuid": "fc303a53-65ae-41f1-9112-5d66d6af6b10",
     "showTitle": false,
     "title": ""
    }
   },
   "outputs": [
    {
     "output_type": "display_data",
     "data": {
      "image/png": "[encoded data removed]",
      "text/plain": [
       "<Figure size 1000x600 with 1 Axes>"
      ]
     },
     "metadata": {},
     "output_type": "display_data"
    }
   ],
   "source": [
    "\n",
    "_dirGold = 'dbfs:/Gold'\n",
    "df_gold = spark.read.parquet(_dirSilver+'/parquet/sales')\n",
    "\n",
    "# Extrair ano e mês da coluna 'created_at'\n",
    "df_gold = df_gold.withColumn(\"year_month\", col(\"created_at\").substr(1, 7))\n",
    "# Filtrar para incluir apenas os últimos 10 anos\n",
    "current_year =  pd.Timestamp.now().year\n",
    "start_year = current_year - 9  # Últimos 10 anos\n",
    "df_filtered = df_gold.filter(year(\"created_at\") >= start_year)\n",
    "\n",
    "# Calcular o total de vendas por ano-mês\n",
    "sales_by_month = df_filtered.groupBy(\"year_month\").count().orderBy(\"year_month\")\n",
    "\n",
    "# Converter DataFrame para Pandas para plotagem\n",
    "sales_pandas = sales_by_month.toPandas()\n",
    "\n",
    "# Converter a coluna 'year_month' para tipo de data\n",
    "sales_pandas[\"year_month\"] = pd.to_datetime(sales_pandas[\"year_month\"])\n",
    "\n",
    "plt.figure(figsize=(10, 6))\n",
    "plt.plot(sales_pandas[\"year_month\"], sales_pandas[\"count\"], marker='o')\n",
    "plt.title(\"Histórico de Compra Últimos 10 anos\")\n",
    "plt.xlabel(\"Data\")\n",
    "plt.ylabel(\"Número de Vendas\")\n",
    "plt.xticks(rotation=45)\n",
    "plt.grid(True)\n",
    "plt.tight_layout()\n",
    "plt.show()\n",
    "#Manter o df final com os tratamentos na camada gold\n",
    "df_gold.write.parquet(_dirGold+'/parquet/',mode='overwrite')\n"
   ]
  },
  {
   "cell_type": "markdown",
   "metadata": {
    "application/vnd.databricks.v1+cell": {
     "cellMetadata": {},
     "inputWidgets": {},
     "nuid": "344697f5-2b1f-4019-9a1a-92459d837d00",
     "showTitle": false,
     "title": ""
    }
   },
   "source": [
    "Separação de dados para ML"
   ]
  },
  {
   "cell_type": "code",
   "execution_count": 0,
   "metadata": {
    "application/vnd.databricks.v1+cell": {
     "cellMetadata": {
      "byteLimit": 2048000,
      "rowLimit": 10000
     },
     "inputWidgets": {},
     "nuid": "fa34eeca-641f-4533-a89b-f7fb87d73d8d",
     "showTitle": false,
     "title": ""
    }
   },
   "outputs": [
    {
     "output_type": "stream",
     "name": "stdout",
     "output_type": "stream",
     "text": [
      "root\n |-- name: string (nullable = true)\n |-- sale_id: string (nullable = true)\n |-- product_id: string (nullable = true)\n |-- product: string (nullable = true)\n |-- price_y: string (nullable = true)\n |-- quantity: integer (nullable = true)\n |-- price_x: integer (nullable = true)\n |-- created_at: string (nullable = true)\n |-- updated_at: string (nullable = true)\n |-- email: string (nullable = true)\n |-- total_sale: double (nullable = true)\n |-- year_created: integer (nullable = true)\n |-- month_created: integer (nullable = true)\n |-- user: string (nullable = true)\n |-- year_month: string (nullable = true)\n\n"
     ]
    }
   ],
   "source": [
    "df_gold = df_gold.withColumn(\"price_x\", col(\"price_x\").cast(\"int\"))\n",
    "df_gold = df_gold.withColumn(\"quantity\", col(\"quantity\").cast(\"int\"))\n",
    "df_gold.printSchema()\n"
   ]
  },
  {
   "cell_type": "markdown",
   "metadata": {
    "application/vnd.databricks.v1+cell": {
     "cellMetadata": {
      "byteLimit": 2048000,
      "rowLimit": 10000
     },
     "inputWidgets": {},
     "nuid": "5df241a6-6b2a-4021-b1ee-6ea5242685db",
     "showTitle": false,
     "title": ""
    }
   },
   "source": []
  },
  {
   "cell_type": "markdown",
   "metadata": {
    "application/vnd.databricks.v1+cell": {
     "cellMetadata": {},
     "inputWidgets": {},
     "nuid": "a5195e5d-a48f-4cc5-8941-b764193b0375",
     "showTitle": false,
     "title": ""
    }
   },
   "source": [
    "Criação do Modelo de LR"
   ]
  },
  {
   "cell_type": "code",
   "execution_count": 0,
   "metadata": {
    "application/vnd.databricks.v1+cell": {
     "cellMetadata": {
      "byteLimit": 2048000,
      "rowLimit": 10000
     },
     "inputWidgets": {},
     "nuid": "61423b73-7c91-47a1-9d4c-73f73665eabf",
     "showTitle": false,
     "title": ""
    }
   },
   "outputs": [],
   "source": [
    "df_selected = df_gold.select(df_gold[\"price_x\"].alias(\"price_x\"), \"quantity\").na.drop(subset=[\"quantity\",\"price_x\"])\n",
    "\n",
    "# Criar um vetor de features\n",
    "vectorAssembler = VectorAssembler(inputCols=[\"price_x\"], outputCol=\"features\")\n",
    "\n",
    "df_features = vectorAssembler.transform(df_selected).select(\"features\", \"quantity\")\n",
    "\n",
    "(train_data, test_data) = df_features.randomSplit([0.6, 0.4], seed=999)\n",
    "\n",
    "# Criar e treinar o modelo de regressão linear\n",
    "lr = LinearRegression(featuresCol=\"features\", labelCol=\"quantity\")\n",
    "lr_model = lr.fit(train_data)\n",
    "\n",
    "predictions = lr_model.transform(test_data)\n",
    "predictions_df = predictions.select(\"features\", \"quantity\", \"prediction\")"
   ]
  },
  {
   "cell_type": "markdown",
   "metadata": {
    "application/vnd.databricks.v1+cell": {
     "cellMetadata": {},
     "inputWidgets": {},
     "nuid": "485f00bd-54ce-491d-b6ec-32d0b9d8f8bc",
     "showTitle": false,
     "title": ""
    }
   },
   "source": []
  },
  {
   "cell_type": "code",
   "execution_count": 0,
   "metadata": {
    "application/vnd.databricks.v1+cell": {
     "cellMetadata": {
      "byteLimit": 2048000,
      "rowLimit": 10000
     },
     "inputWidgets": {},
     "nuid": "c2993515-a103-4a8c-ab59-acda556a1e6e",
     "showTitle": false,
     "title": ""
    }
   },
   "outputs": [
    {
     "output_type": "stream",
     "name": "stdout",
     "output_type": "stream",
     "text": [
      "+--------+--------+------------------+\n|features|quantity|        prediction|\n+--------+--------+------------------+\n|   [0.0]|       4| 2.057845978826463|\n|   [0.0]|       2| 2.057845978826463|\n|   [0.0]|       3| 2.057845978826463|\n|   [1.0]|       3| 2.057852108740053|\n|   [1.0]|       0| 2.057852108740053|\n|   [2.0]|       0|2.0578582386536435|\n|   [2.0]|       1|2.0578582386536435|\n|   [2.0]|       4|2.0578582386536435|\n|   [3.0]|       1|2.0578643685672335|\n|   [3.0]|       1|2.0578643685672335|\n|   [3.0]|       1|2.0578643685672335|\n|   [3.0]|       2|2.0578643685672335|\n|   [3.0]|       4|2.0578643685672335|\n|   [3.0]|       3|2.0578643685672335|\n|   [3.0]|       5|2.0578643685672335|\n|   [3.0]|       3|2.0578643685672335|\n|   [4.0]|       0|2.0578704984808236|\n|   [4.0]|       1|2.0578704984808236|\n|   [4.0]|       0|2.0578704984808236|\n|   [4.0]|       2|2.0578704984808236|\n+--------+--------+------------------+\nonly showing top 20 rows\n\n"
     ]
    }
   ],
   "source": [
    "predictions_df.show()"
   ]
  }
 ],
 "metadata": {
  "application/vnd.databricks.v1+notebook": {
   "dashboards": [],
   "language": "python",
   "notebookMetadata": {
    "mostRecentlyExecutedCommandWithImplicitDF": {
     "commandId": 1101108832411090,
     "dataframes": [
      "_sqldf"
     ]
    },
    "pythonIndentUnit": 4
   },
   "notebookName": "Sales ETL",
   "widgets": {}
  }
 },
 "nbformat": 4,
 "nbformat_minor": 0
}
